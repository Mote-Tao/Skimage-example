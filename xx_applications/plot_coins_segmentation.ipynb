{
  "metadata": {
    "language_info": {
      "name": "python",
      "nbconvert_exporter": "python",
      "codemirror_mode": {
        "name": "ipython",
        "version": 3
      },
      "mimetype": "text/x-python",
      "file_extension": ".py",
      "pygments_lexer": "ipython3",
      "version": "3.4.2"
    },
    "kernelspec": {
      "name": "python3",
      "display_name": "Python 3",
      "language": "python"
    }
  },
  "nbformat_minor": 0,
  "cells": [
    {
      "metadata": {
        "collapsed": false
      },
      "outputs": [],
      "execution_count": null,
      "cell_type": "code",
      "source": [
        "%matplotlib inline"
      ]
    },
    {
      "metadata": {},
      "cell_type": "markdown",
      "source": [
        "\n# Comparing edge-based and region-based segmentation\n\n\nIn this example, we will see how to segment objects from a background. We use\nthe ``coins`` image from ``skimage.data``, which shows several coins outlined\nagainst a darker background.\n\n"
      ]
    },
    {
      "metadata": {
        "collapsed": false
      },
      "outputs": [],
      "execution_count": null,
      "cell_type": "code",
      "source": [
        "import numpy as np\nimport matplotlib.pyplot as plt\n\nfrom skimage import data\n\ncoins = data.coins()\nhist = np.histogram(coins, bins=np.arange(0, 256))\n\nfig, axes = plt.subplots(1, 2, figsize=(8, 3))\naxes[0].imshow(coins, cmap=plt.cm.gray, interpolation='nearest')\naxes[0].axis('off')\naxes[1].plot(hist[1][:-1], hist[0], lw=2)\naxes[1].set_title('histogram of grey values')"
      ]
    },
    {
      "metadata": {},
      "cell_type": "markdown",
      "source": [
        "Thresholding\n============\n\nA simple way to segment the coins is to choose a threshold based on the\nhistogram of grey values. Unfortunately, thresholding this image gives a\nbinary image that either misses significant parts of the coins or merges\nparts of the background with the coins:\n\n"
      ]
    },
    {
      "metadata": {
        "collapsed": false
      },
      "outputs": [],
      "execution_count": null,
      "cell_type": "code",
      "source": [
        "fig, axes = plt.subplots(1, 2, figsize=(8, 3), sharey=True)\n\naxes[0].imshow(coins > 100, cmap=plt.cm.gray, interpolation='nearest')\naxes[0].set_title('coins > 100')\n\naxes[1].imshow(coins > 150, cmap=plt.cm.gray, interpolation='nearest')\naxes[1].set_title('coins > 150')\n\nfor a in axes:\n    a.axis('off')\n    a.set_adjustable('box-forced')\n\nplt.tight_layout()"
      ]
    },
    {
      "metadata": {},
      "cell_type": "markdown",
      "source": [
        "Edge-based segmentation\n=======================\n\nNext, we try to delineate the contours of the coins using edge-based\nsegmentation. To do this, we first get the edges of features using the\nCanny edge-detector.\n\n"
      ]
    },
    {
      "metadata": {
        "collapsed": false
      },
      "outputs": [],
      "execution_count": null,
      "cell_type": "code",
      "source": [
        "from skimage.feature import canny\n\nedges = canny(coins)\n\nfig, ax = plt.subplots(figsize=(4, 3))\nax.imshow(edges, cmap=plt.cm.gray, interpolation='nearest')\nax.set_title('Canny detector')\nax.axis('off')\nax.set_adjustable('box-forced')"
      ]
    },
    {
      "metadata": {},
      "cell_type": "markdown",
      "source": [
        "These contours are then filled using mathematical morphology.\n\n"
      ]
    },
    {
      "metadata": {
        "collapsed": false
      },
      "outputs": [],
      "execution_count": null,
      "cell_type": "code",
      "source": [
        "from scipy import ndimage as ndi\n\nfill_coins = ndi.binary_fill_holes(edges)\n\nfig, ax = plt.subplots(figsize=(4, 3))\nax.imshow(fill_coins, cmap=plt.cm.gray, interpolation='nearest')\nax.set_title('filling the holes')\nax.axis('off')"
      ]
    },
    {
      "metadata": {},
      "cell_type": "markdown",
      "source": [
        "Small spurious objects are easily removed by setting a minimum size for\nvalid objects.\n\n"
      ]
    },
    {
      "metadata": {
        "collapsed": false
      },
      "outputs": [],
      "execution_count": null,
      "cell_type": "code",
      "source": [
        "from skimage import morphology\n\ncoins_cleaned = morphology.remove_small_objects(fill_coins, 21)\n\nfig, ax = plt.subplots(figsize=(4, 3))\nax.imshow(coins_cleaned, cmap=plt.cm.gray, interpolation='nearest')\nax.set_title('removing small objects')\nax.axis('off')\nax.set_adjustable('box-forced')"
      ]
    },
    {
      "metadata": {},
      "cell_type": "markdown",
      "source": [
        "However, this method is not very robust, since contours that are not\nperfectly closed are not filled correctly, as is the case for one unfilled\ncoin above.\n\nRegion-based segmentation\n=========================\n\nWe therefore try a region-based method using the watershed transform.\nFirst, we find an elevation map using the Sobel gradient of the image.\n\n"
      ]
    },
    {
      "metadata": {
        "collapsed": false
      },
      "outputs": [],
      "execution_count": null,
      "cell_type": "code",
      "source": [
        "from skimage.filters import sobel\n\nelevation_map = sobel(coins)\n\nfig, ax = plt.subplots(figsize=(4, 3))\nax.imshow(elevation_map, cmap=plt.cm.gray, interpolation='nearest')\nax.set_title('elevation map')\nax.axis('off')\nax.set_adjustable('box-forced')"
      ]
    },
    {
      "metadata": {},
      "cell_type": "markdown",
      "source": [
        "Next we find markers of the background and the coins based on the extreme\nparts of the histogram of grey values.\n\n"
      ]
    },
    {
      "metadata": {
        "collapsed": false
      },
      "outputs": [],
      "execution_count": null,
      "cell_type": "code",
      "source": [
        "markers = np.zeros_like(coins)\nmarkers[coins < 30] = 1\nmarkers[coins > 150] = 2\n\nfig, ax = plt.subplots(figsize=(4, 3))\nax.imshow(markers, cmap=plt.cm.spectral, interpolation='nearest')\nax.set_title('markers')\nax.axis('off')\nax.set_adjustable('box-forced')"
      ]
    },
    {
      "metadata": {},
      "cell_type": "markdown",
      "source": [
        "Finally, we use the watershed transform to fill regions of the elevation\nmap starting from the markers determined above:\n\n"
      ]
    },
    {
      "metadata": {
        "collapsed": false
      },
      "outputs": [],
      "execution_count": null,
      "cell_type": "code",
      "source": [
        "segmentation = morphology.watershed(elevation_map, markers)\n\nfig, ax = plt.subplots(figsize=(4, 3))\nax.imshow(segmentation, cmap=plt.cm.gray, interpolation='nearest')\nax.set_title('segmentation')\nax.axis('off')\nax.set_adjustable('box-forced')"
      ]
    },
    {
      "metadata": {},
      "cell_type": "markdown",
      "source": [
        "This last method works even better, and the coins can be segmented and\nlabeled individually.\n\n"
      ]
    },
    {
      "metadata": {
        "collapsed": false
      },
      "outputs": [],
      "execution_count": null,
      "cell_type": "code",
      "source": [
        "from skimage.color import label2rgb\n\nsegmentation = ndi.binary_fill_holes(segmentation - 1)\nlabeled_coins, _ = ndi.label(segmentation)\nimage_label_overlay = label2rgb(labeled_coins, image=coins)\n\nfig, axes = plt.subplots(1, 2, figsize=(8, 3), sharey=True)\naxes[0].imshow(coins, cmap=plt.cm.gray, interpolation='nearest')\naxes[0].contour(segmentation, [0.5], linewidths=1.2, colors='y')\naxes[1].imshow(image_label_overlay, interpolation='nearest')\n\nfor a in axes:\n    a.axis('off')\n    a.set_adjustable('box-forced')\n\nplt.tight_layout()"
      ]
    }
  ],
  "nbformat": 4
}