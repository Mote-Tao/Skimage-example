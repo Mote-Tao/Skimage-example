{
  "metadata": {
    "language_info": {
      "name": "python",
      "nbconvert_exporter": "python",
      "codemirror_mode": {
        "name": "ipython",
        "version": 3
      },
      "mimetype": "text/x-python",
      "file_extension": ".py",
      "pygments_lexer": "ipython3",
      "version": "3.4.2"
    },
    "kernelspec": {
      "name": "python3",
      "display_name": "Python 3",
      "language": "python"
    }
  },
  "nbformat_minor": 0,
  "cells": [
    {
      "metadata": {
        "collapsed": false
      },
      "outputs": [],
      "execution_count": null,
      "cell_type": "code",
      "source": [
        "%matplotlib inline"
      ]
    },
    {
      "metadata": {},
      "cell_type": "markdown",
      "source": [
        "\n# Morphological Filtering\n\n\nMorphological image processing is a collection of non-linear operations related\nto the shape or morphology of features in an image, such as boundaries,\nskeletons, etc. In any given technique, we probe an image with a small shape or\ntemplate called a structuring element, which defines the region of interest or\nneighborhood around a pixel.\n\nIn this document we outline the following basic morphological operations:\n\n1. Erosion\n2. Dilation\n3. Opening\n4. Closing\n5. White Tophat\n6. Black Tophat\n7. Skeletonize\n8. Convex Hull\n\n\nTo get started, let's load an image using ``io.imread``. Note that morphology\nfunctions only work on gray-scale or binary images, so we set ``as_grey=True``.\n\n"
      ]
    },
    {
      "metadata": {
        "collapsed": false
      },
      "outputs": [],
      "execution_count": null,
      "cell_type": "code",
      "source": [
        "import os\nimport matplotlib.pyplot as plt\nfrom skimage.data import data_dir\nfrom skimage.util import img_as_ubyte\nfrom skimage import io\n\norig_phantom = img_as_ubyte(io.imread(os.path.join(data_dir, \"phantom.png\"),\n                                      as_grey=True))\nfig, ax = plt.subplots()\nax.imshow(orig_phantom, cmap=plt.cm.gray)"
      ]
    },
    {
      "metadata": {},
      "cell_type": "markdown",
      "source": [
        "Let's also define a convenience function for plotting comparisons:\n\n"
      ]
    },
    {
      "metadata": {
        "collapsed": false
      },
      "outputs": [],
      "execution_count": null,
      "cell_type": "code",
      "source": [
        "def plot_comparison(original, filtered, filter_name):\n\n    fig, (ax1, ax2) = plt.subplots(ncols=2, figsize=(8, 4), sharex=True,\n                                   sharey=True)\n    ax1.imshow(original, cmap=plt.cm.gray)\n    ax1.set_title('original')\n    ax1.axis('off')\n    ax1.set_adjustable('box-forced')\n    ax2.imshow(filtered, cmap=plt.cm.gray)\n    ax2.set_title(filter_name)\n    ax2.axis('off')\n    ax2.set_adjustable('box-forced')"
      ]
    },
    {
      "metadata": {},
      "cell_type": "markdown",
      "source": [
        "Erosion\n=======\n\nMorphological ``erosion`` sets a pixel at (i, j) to the *minimum over all\npixels in the neighborhood centered at (i, j)*. The structuring element,\n``selem``, passed to ``erosion`` is a boolean array that describes this\nneighborhood. Below, we use ``disk`` to create a circular structuring\nelement, which we use for most of the following examples.\n\n"
      ]
    },
    {
      "metadata": {
        "collapsed": false
      },
      "outputs": [],
      "execution_count": null,
      "cell_type": "code",
      "source": [
        "from skimage.morphology import erosion, dilation, opening, closing, white_tophat\nfrom skimage.morphology import black_tophat, skeletonize, convex_hull_image\nfrom skimage.morphology import disk\n\nselem = disk(6)\neroded = erosion(orig_phantom, selem)\nplot_comparison(orig_phantom, eroded, 'erosion')"
      ]
    },
    {
      "metadata": {},
      "cell_type": "markdown",
      "source": [
        "Notice how the white boundary of the image disappears or gets eroded as we\n increase the size of the disk. Also notice the increase in size of the two\n black ellipses in the center and the disappearance of the 3 light grey\n patches in the lower part of the image.\n\nDilation\n========\n\nMorphological ``dilation`` sets a pixel at (i, j) to the *maximum over all\npixels in the neighborhood centered at (i, j)*. Dilation enlarges bright\nregions and shrinks dark regions.\n\n"
      ]
    },
    {
      "metadata": {
        "collapsed": false
      },
      "outputs": [],
      "execution_count": null,
      "cell_type": "code",
      "source": [
        "dilated = dilation(orig_phantom, selem)\nplot_comparison(orig_phantom, dilated, 'dilation')"
      ]
    },
    {
      "metadata": {},
      "cell_type": "markdown",
      "source": [
        "Notice how the white boundary of the image thickens, or gets dilated, as we\nincrease the size of the disk. Also notice the decrease in size of the two\nblack ellipses in the centre, and the thickening of the light grey circle\nin the center and the 3 patches in the lower part of the image.\n\nOpening\n=======\n\nMorphological ``opening`` on an image is defined as an *erosion followed by\na dilation*. Opening can remove small bright spots (i.e. \"salt\") and\nconnect small dark cracks.\n\n"
      ]
    },
    {
      "metadata": {
        "collapsed": false
      },
      "outputs": [],
      "execution_count": null,
      "cell_type": "code",
      "source": [
        "opened = opening(orig_phantom, selem)\nplot_comparison(orig_phantom, opened, 'opening')"
      ]
    },
    {
      "metadata": {},
      "cell_type": "markdown",
      "source": [
        "Since ``opening`` an image starts with an erosion operation, light regions\nthat are *smaller* than the structuring element are removed. The dilation\noperation that follows ensures that light regions that are *larger* than\nthe structuring element retain their original size. Notice how the light\nand dark shapes in the center their original thickness but the 3 lighter\npatches in the bottom get completely eroded. The size dependence is\nhighlighted by the outer white ring: The parts of the ring thinner than the\nstructuring element were completely erased, while the thicker region at the\ntop retains its original thickness.\n\nClosing\n=======\n\nMorphological ``closing`` on an image is defined as a *dilation followed by\nan erosion*. Closing can remove small dark spots (i.e. \"pepper\") and\nconnect small bright cracks.\n\nTo illustrate this more clearly, let's add a small crack to the white\nborder:\n\n"
      ]
    },
    {
      "metadata": {
        "collapsed": false
      },
      "outputs": [],
      "execution_count": null,
      "cell_type": "code",
      "source": [
        "phantom = orig_phantom.copy()\nphantom[10:30, 200:210] = 0\n\nclosed = closing(phantom, selem)\nplot_comparison(phantom, closed, 'closing')"
      ]
    },
    {
      "metadata": {},
      "cell_type": "markdown",
      "source": [
        "Since ``closing`` an image starts with an dilation operation, dark regions\nthat are *smaller* than the structuring element are removed. The dilation\noperation that follows ensures that dark regions that are *larger* than the\nstructuring element retain their original size. Notice how the white\nellipses at the bottom get connected because of dilation, but other dark\nregion retain their original sizes. Also notice how the crack we added is\nmostly removed.\n\nWhite tophat\n============\n\nThe ``white_tophat`` of an image is defined as the *image minus its\nmorphological opening*. This operation returns the bright spots of the\nimage that are smaller than the structuring element.\n\nTo make things interesting, we'll add bright and dark spots to the image:\n\n"
      ]
    },
    {
      "metadata": {
        "collapsed": false
      },
      "outputs": [],
      "execution_count": null,
      "cell_type": "code",
      "source": [
        "phantom = orig_phantom.copy()\nphantom[340:350, 200:210] = 255\nphantom[100:110, 200:210] = 0\n\nw_tophat = white_tophat(phantom, selem)\nplot_comparison(phantom, w_tophat, 'white tophat')"
      ]
    },
    {
      "metadata": {},
      "cell_type": "markdown",
      "source": [
        "As you can see, the 10-pixel wide white square is highlighted since it is\nsmaller than the structuring element. Also, the thin, white edges around\nmost of the ellipse are retained because they're smaller than the\nstructuring element, but the thicker region at the top disappears.\n\nBlack tophat\n============\n\nThe ``black_tophat`` of an image is defined as its morphological **closing\nminus the original image**. This operation returns the *dark spots of the\nimage that are smaller than the structuring element*.\n\n"
      ]
    },
    {
      "metadata": {
        "collapsed": false
      },
      "outputs": [],
      "execution_count": null,
      "cell_type": "code",
      "source": [
        "b_tophat = black_tophat(phantom, selem)\nplot_comparison(phantom, b_tophat, 'black tophat')"
      ]
    },
    {
      "metadata": {},
      "cell_type": "markdown",
      "source": [
        "As you can see, the 10-pixel wide black square is highlighted since\nit is smaller than the structuring element.\n\n**Duality**\n\nAs you should have noticed, many of these operations are simply the reverse\nof another operation. This duality can be summarized as follows:\n\n 1. Erosion <-> Dilation\n\n 2. Opening <-> Closing\n\n 3. White tophat <-> Black tophat\n\nSkeletonize\n===========\n\nThinning is used to reduce each connected component in a binary image to a\n*single-pixel wide skeleton*. It is important to note that this is\nperformed on binary images only.\n\n"
      ]
    },
    {
      "metadata": {
        "collapsed": false
      },
      "outputs": [],
      "execution_count": null,
      "cell_type": "code",
      "source": [
        "horse = io.imread(os.path.join(data_dir, \"horse.png\"), as_grey=True)\n\nsk = skeletonize(horse == 0)\nplot_comparison(horse, sk, 'skeletonize')"
      ]
    },
    {
      "metadata": {},
      "cell_type": "markdown",
      "source": [
        "As the name suggests, this technique is used to thin the image to 1-pixel\nwide skeleton by applying thinning successively.\n\nConvex hull\n===========\n\nThe ``convex_hull_image`` is the *set of pixels included in the smallest\nconvex polygon that surround all white pixels in the input image*. Again\nnote that this is also performed on binary images.\n\n"
      ]
    },
    {
      "metadata": {
        "collapsed": false
      },
      "outputs": [],
      "execution_count": null,
      "cell_type": "code",
      "source": [
        "hull1 = convex_hull_image(horse == 0)\nplot_comparison(horse, hull1, 'convex hull')"
      ]
    },
    {
      "metadata": {},
      "cell_type": "markdown",
      "source": [
        "As the figure illustrates, ``convex_hull_image`` gives the smallest polygon\nwhich covers the white or True completely in the image.\n\nIf we add a small grain to the image, we can see how the convex hull adapts\nto enclose that grain:\n\n"
      ]
    },
    {
      "metadata": {
        "collapsed": false
      },
      "outputs": [],
      "execution_count": null,
      "cell_type": "code",
      "source": [
        "import numpy as np\n\nhorse_mask = horse == 0\nhorse_mask[45:50, 75:80] = 1\n\nhull2 = convex_hull_image(horse_mask)\nplot_comparison(horse_mask, hull2, 'convex hull')"
      ]
    },
    {
      "metadata": {},
      "cell_type": "markdown",
      "source": [
        "Additional Resources\n====================\n\n1. `MathWorks tutorial on morphological processing\n<http://www.mathworks.com/help/images/morphology-fundamentals-dilation-and-\nerosion.html>`_\n\n2. `Auckland university's tutorial on Morphological Image\nProcessing <http://www.cs.auckland.ac.nz/courses/compsci773s1c/lectures\n/ImageProcessing-html/topic4.htm>`_\n\n3. http://en.wikipedia.org/wiki/Mathematical_morphology\n\n"
      ]
    }
  ],
  "nbformat": 4
}