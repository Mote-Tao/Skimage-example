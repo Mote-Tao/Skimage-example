{
  "metadata": {
    "language_info": {
      "name": "python",
      "nbconvert_exporter": "python",
      "codemirror_mode": {
        "name": "ipython",
        "version": 3
      },
      "mimetype": "text/x-python",
      "file_extension": ".py",
      "pygments_lexer": "ipython3",
      "version": "3.4.2"
    },
    "kernelspec": {
      "name": "python3",
      "display_name": "Python 3",
      "language": "python"
    }
  },
  "nbformat_minor": 0,
  "cells": [
    {
      "metadata": {
        "collapsed": false
      },
      "outputs": [],
      "execution_count": null,
      "cell_type": "code",
      "source": [
        "%matplotlib inline"
      ]
    },
    {
      "metadata": {},
      "cell_type": "markdown",
      "source": [
        "\n# Dense DAISY feature description\n\n\nThe DAISY local image descriptor is based on gradient orientation histograms\nsimilar to the SIFT descriptor. It is formulated in a way that allows for fast\ndense extraction which is useful for e.g. bag-of-features image\nrepresentations.\n\nIn this example a limited number of DAISY descriptors are extracted at a large\nscale for illustrative purposes.\n\n"
      ]
    },
    {
      "metadata": {
        "collapsed": false
      },
      "outputs": [],
      "execution_count": null,
      "cell_type": "code",
      "source": [
        "from skimage.feature import daisy\nfrom skimage import data\nimport matplotlib.pyplot as plt\n\n\nimg = data.camera()\ndescs, descs_img = daisy(img, step=180, radius=58, rings=2, histograms=6,\n                         orientations=8, visualize=True)\n\nfig, ax = plt.subplots()\nax.axis('off')\nax.imshow(descs_img)\ndescs_num = descs.shape[0] * descs.shape[1]\nax.set_title('%i DAISY descriptors extracted:' % descs_num)\nplt.show()"
      ]
    }
  ],
  "nbformat": 4
}