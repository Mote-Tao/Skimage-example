{
  "metadata": {
    "language_info": {
      "name": "python",
      "nbconvert_exporter": "python",
      "codemirror_mode": {
        "name": "ipython",
        "version": 3
      },
      "mimetype": "text/x-python",
      "file_extension": ".py",
      "pygments_lexer": "ipython3",
      "version": "3.4.2"
    },
    "kernelspec": {
      "name": "python3",
      "display_name": "Python 3",
      "language": "python"
    }
  },
  "nbformat_minor": 0,
  "cells": [
    {
      "metadata": {
        "collapsed": false
      },
      "outputs": [],
      "execution_count": null,
      "cell_type": "code",
      "source": [
        "%matplotlib inline"
      ]
    },
    {
      "metadata": {},
      "cell_type": "markdown",
      "source": [
        "\n# CENSURE feature detector\n\n\nThe CENSURE feature detector is a scale-invariant center-surround detector\n(CENSURE) that claims to outperform other detectors and is capable of real-time\nimplementation.\n\n"
      ]
    },
    {
      "metadata": {
        "collapsed": false
      },
      "outputs": [],
      "execution_count": null,
      "cell_type": "code",
      "source": [
        "from skimage import data\nfrom skimage import transform as tf\nfrom skimage.feature import CENSURE\nfrom skimage.color import rgb2gray\n\nimport matplotlib.pyplot as plt\n\n\nimg_orig = rgb2gray(data.astronaut())\ntform = tf.AffineTransform(scale=(1.5, 1.5), rotation=0.5,\n                           translation=(150, -200))\nimg_warp = tf.warp(img_orig, tform)\n\ndetector = CENSURE()\n\nfig, ax = plt.subplots(nrows=1, ncols=2, figsize=(12, 6))\n\ndetector.detect(img_orig)\n\nax[0].imshow(img_orig, cmap=plt.cm.gray)\nax[0].scatter(detector.keypoints[:, 1], detector.keypoints[:, 0],\n              2 ** detector.scales, facecolors='none', edgecolors='r')\nax[0].set_title(\"Original Image\")\n\ndetector.detect(img_warp)\n\nax[1].imshow(img_warp, cmap=plt.cm.gray)\nax[1].scatter(detector.keypoints[:, 1], detector.keypoints[:, 0],\n              2 ** detector.scales, facecolors='none', edgecolors='r')\nax[1].set_title('Transformed Image')\n\nfor a in ax:\n    a.axis('off')\n    \nplt.tight_layout()\nplt.show()"
      ]
    }
  ],
  "nbformat": 4
}