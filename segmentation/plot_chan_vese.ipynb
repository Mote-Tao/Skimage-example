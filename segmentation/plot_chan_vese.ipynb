{
 "cells": [
  {
   "cell_type": "code",
   "execution_count": 3,
   "metadata": {},
   "outputs": [],
   "source": [
    "%matplotlib inline"
   ]
  },
  {
   "cell_type": "markdown",
   "metadata": {},
   "source": [
    "\n",
    "# Chan-Vese Segmentation\n",
    "\n",
    "\n",
    "The Chan-Vese segmentation algorithm is designed to segment objects without\n",
    "clearly defined boundaries. This algorithm is based on level sets that are\n",
    "evolved iteratively to minimize an energy, which is defined by\n",
    "weighted values corresponding to the sum of differences intensity\n",
    "from the average value outside the segmented region, the sum of\n",
    "differences from the average value inside the segmented region, and a\n",
    "term which is dependent on the length of the boundary of the segmented\n",
    "region.\n",
    "\n",
    "This algorithm was first proposed by Tony Chan and Luminita Vese, in\n",
    "a publicaion entitled \"An Active Countour Model Without Edges\" [1]_.\n",
    "\n",
    "This implementation of the algorithm is somewhat simplified in the\n",
    "sense that the area factor 'nu' described in the original paper is not\n",
    "implemented, and is only suitable for grayscale images.\n",
    "\n",
    "Typical values for ``lambda1`` and ``lambda2`` are 1. If the 'background' is\n",
    "very different from the segmented object in terms of distribution (for\n",
    "example, a uniform black image with figures of varying intensity), then\n",
    "these values should be different from each other.\n",
    "\n",
    "Typical values for ``mu`` are between 0 and 1, though higher values can be\n",
    "used when dealing with shapes with very ill-defined contours.\n",
    "\n",
    "The algorithm also returns a list of values that corresponds to the\n",
    "energy at each iteration. This can be used to adjust the various\n",
    "parameters described above.\n",
    "\n",
    "References\n",
    "----------\n",
    ".. [1] An Active Contour Model without Edges, Tony Chan and\n",
    "       Luminita Vese, Scale-Space Theories in Computer Vision, 1999,\n",
    "       DOI:10.1007/3-540-48236-9_13\n",
    ".. [2] Chan-Vese Segmentation, Pascal Getreuer, Image Processing On\n",
    "       Line, 2 (2012), pp. 214-224,\n",
    "       DOI:10.5201/ipol.2012.g-cv\n",
    ".. [3] The Chan-Vese Algorithm - Project Report, Rami Cohen,\n",
    "       http://arxiv.org/abs/1107.2782 , 2011\n",
    "\n"
   ]
  },
  {
   "cell_type": "code",
   "execution_count": 5,
   "metadata": {},
   "outputs": [
    {
     "ename": "ImportError",
     "evalue": "cannot import name chan_vese",
     "output_type": "error",
     "traceback": [
      "\u001b[0;31m\u001b[0m",
      "\u001b[0;31mImportError\u001b[0mTraceback (most recent call last)",
      "\u001b[0;32m<ipython-input-5-145130e5a485>\u001b[0m in \u001b[0;36m<module>\u001b[0;34m()\u001b[0m\n\u001b[1;32m      2\u001b[0m \u001b[0;32mimport\u001b[0m \u001b[0mmatplotlib\u001b[0m\u001b[0;34m.\u001b[0m\u001b[0mpyplot\u001b[0m \u001b[0;32mas\u001b[0m \u001b[0mplt\u001b[0m\u001b[0;34m\u001b[0m\u001b[0m\n\u001b[1;32m      3\u001b[0m \u001b[0;32mfrom\u001b[0m \u001b[0mskimage\u001b[0m \u001b[0;32mimport\u001b[0m \u001b[0mdata\u001b[0m\u001b[0;34m,\u001b[0m \u001b[0mimg_as_float\u001b[0m\u001b[0;34m\u001b[0m\u001b[0m\n\u001b[0;32m----> 4\u001b[0;31m \u001b[0;32mfrom\u001b[0m \u001b[0mskimage\u001b[0m\u001b[0;34m.\u001b[0m\u001b[0msegmentation\u001b[0m \u001b[0;32mimport\u001b[0m \u001b[0mchan_vese\u001b[0m\u001b[0;34m\u001b[0m\u001b[0m\n\u001b[0m\u001b[1;32m      5\u001b[0m \u001b[0;34m\u001b[0m\u001b[0m\n\u001b[1;32m      6\u001b[0m \u001b[0mimage\u001b[0m \u001b[0;34m=\u001b[0m \u001b[0mimg_as_float\u001b[0m\u001b[0;34m(\u001b[0m\u001b[0mdata\u001b[0m\u001b[0;34m.\u001b[0m\u001b[0mcamera\u001b[0m\u001b[0;34m(\u001b[0m\u001b[0;34m)\u001b[0m\u001b[0;34m)\u001b[0m\u001b[0;34m\u001b[0m\u001b[0m\n",
      "\u001b[0;31mImportError\u001b[0m: cannot import name chan_vese"
     ]
    }
   ],
   "source": [
    "import numpy as np\n",
    "import matplotlib.pyplot as plt\n",
    "from skimage import data, img_as_float\n",
    "from skimage.segmentation import chan_vese\n",
    "\n",
    "image = img_as_float(data.camera())\n",
    "# Feel free to play around with the parameters to see how they impact the result\n",
    "cv = chan_vese(image, mu=0.25, lambda1=1, lambda2=1, tol=1e-3, max_iter=200,\n",
    "               dt=0.5, init_level_set=\"checkerboard\", extended_output=True)\n",
    "\n",
    "fig, axes = plt.subplots(2, 2, figsize=(8, 8))\n",
    "ax = axes.flatten()\n",
    "\n",
    "ax[0].imshow(image, cmap=\"gray\")\n",
    "ax[0].set_axis_off()\n",
    "ax[0].set_title(\"Original Image\", fontsize=12)\n",
    "\n",
    "ax[1].imshow(cv[0], cmap=\"gray\")\n",
    "ax[1].set_axis_off()\n",
    "title = \"Chan-Vese segmentation - {} iterations\".format(len(cv[2]))\n",
    "ax[1].set_title(title, fontsize=12)\n",
    "\n",
    "ax[2].imshow(cv[1], cmap=\"gray\")\n",
    "ax[2].set_axis_off()\n",
    "ax[2].set_title(\"Final Level Set\", fontsize=12)\n",
    "\n",
    "ax[3].plot(cv[2])\n",
    "ax[3].set_title(\"Evolution of energy over iterations\", fontsize=12)\n",
    "\n",
    "fig.tight_layout()\n",
    "plt.show()"
   ]
  },
  {
   "cell_type": "code",
   "execution_count": 7,
   "metadata": {},
   "outputs": [
    {
     "data": {
      "text/plain": [
       "['__all__',\n",
       " '__builtins__',\n",
       " '__doc__',\n",
       " '__file__',\n",
       " '__name__',\n",
       " '__package__',\n",
       " '__path__',\n",
       " '_clear_border',\n",
       " '_felzenszwalb',\n",
       " '_felzenszwalb_cy',\n",
       " '_join',\n",
       " '_quickshift',\n",
       " '_quickshift_cy',\n",
       " '_slic',\n",
       " 'active_contour',\n",
       " 'active_contour_model',\n",
       " 'boundaries',\n",
       " 'clear_border',\n",
       " 'felzenszwalb',\n",
       " 'find_boundaries',\n",
       " 'join_segmentations',\n",
       " 'mark_boundaries',\n",
       " 'quickshift',\n",
       " 'random_walker',\n",
       " 'random_walker_segmentation',\n",
       " 'relabel_from_one',\n",
       " 'relabel_sequential',\n",
       " 'slic',\n",
       " 'slic_superpixels',\n",
       " 'watershed']"
      ]
     },
     "execution_count": 7,
     "metadata": {},
     "output_type": "execute_result"
    }
   ],
   "source": [
    "import skimage\n",
    "dir(skimage.segmentation)"
   ]
  },
  {
   "cell_type": "code",
   "execution_count": null,
   "metadata": {
    "collapsed": true
   },
   "outputs": [],
   "source": []
  }
 ],
 "metadata": {
  "kernelspec": {
   "display_name": "Python 2",
   "language": "python",
   "name": "python2"
  },
  "language_info": {
   "codemirror_mode": {
    "name": "ipython",
    "version": 2
   },
   "file_extension": ".py",
   "mimetype": "text/x-python",
   "name": "python",
   "nbconvert_exporter": "python",
   "pygments_lexer": "ipython2",
   "version": "2.7.12"
  }
 },
 "nbformat": 4,
 "nbformat_minor": 1
}
