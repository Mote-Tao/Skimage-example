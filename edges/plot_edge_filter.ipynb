{
 "cells": [
  {
   "cell_type": "code",
   "execution_count": null,
   "metadata": {},
   "outputs": [],
   "source": [
    "%matplotlib inline"
   ]
  },
  {
   "cell_type": "markdown",
   "metadata": {},
   "source": [
    "\n",
    "# Edge operators\n",
    "\n",
    "\n",
    "Edge operators are used in image processing within edge detection algorithms.\n",
    "They are discrete differentiation operators, computing an approximation of the\n",
    "gradient of the image intensity function.\n",
    "\n",
    "\n"
   ]
  },
  {
   "cell_type": "code",
   "execution_count": null,
   "metadata": {},
   "outputs": [],
   "source": [
    "import numpy as np\n",
    "import matplotlib.pyplot as plt\n",
    "\n",
    "from skimage.data import camera\n",
    "from skimage.filters import roberts, sobel, scharr, prewitt\n",
    "\n",
    "\n",
    "image = camera()\n",
    "edge_roberts = roberts(image)\n",
    "edge_sobel = sobel(image)\n",
    "\n",
    "fig, ax = plt.subplots(ncols=2, sharex=True, sharey=True,\n",
    "                       figsize=(8, 4))\n",
    "\n",
    "ax[0].imshow(edge_roberts, cmap=plt.cm.gray)\n",
    "ax[0].set_title('Roberts Edge Detection')\n",
    "\n",
    "ax[1].imshow(edge_sobel, cmap=plt.cm.gray)\n",
    "ax[1].set_title('Sobel Edge Detection')\n",
    "\n",
    "for a in ax:\n",
    "    a.axis('off')\n",
    "\n",
    "plt.tight_layout()\n",
    "plt.show()"
   ]
  },
  {
   "cell_type": "markdown",
   "metadata": {},
   "source": [
    "Different operators compute different finite-difference approximations of\n",
    "the gradient. For example, the Scharr filter results in a less rotational\n",
    "variance than the Sobel filter that is in turn better than the Prewitt\n",
    "filter [1]_ [2]_ [3]_. The difference between the Prewitt and Sobel filters\n",
    "and the Scharr filter is illustrated below with an image that is the\n",
    "discretization of a rotation- invariant continuous function. The\n",
    "discrepancy between the Prewitt and Sobel filters, and the Scharr filter is\n",
    "stronger for regions of the image where the direction of the gradient is\n",
    "close to diagonal, and for regions with high spatial frequencies. For the\n",
    "example image the differences between the filter results are very small and\n",
    "the filter results are visually almost indistinguishable.\n",
    "\n",
    ".. [1] https://en.wikipedia.org/wiki/Sobel_operator#Alternative_operators\n",
    "\n",
    ".. [2] B. Jaehne, H. Scharr, and S. Koerkel. Principles of filter design.\n",
    "       In Handbook of Computer Vision and Applications. Academic Press,\n",
    "       1999.\n",
    "\n",
    ".. [3] https://en.wikipedia.org/wiki/Prewitt_operator\n",
    "\n"
   ]
  },
  {
   "cell_type": "code",
   "execution_count": null,
   "metadata": {},
   "outputs": [],
   "source": [
    "x, y = np.ogrid[:100, :100]\n",
    "# Rotation-invariant image with different spatial frequencies\n",
    "img = np.exp(1j * np.hypot(x, y)**1.3 / 20.).real\n",
    "\n",
    "edge_sobel = sobel(img)\n",
    "edge_scharr = scharr(img)\n",
    "edge_prewitt = prewitt(img)\n",
    "\n",
    "diff_scharr_prewitt = edge_scharr - edge_prewitt\n",
    "diff_scharr_sobel = edge_scharr - edge_sobel\n",
    "max_diff = np.max(np.maximum(diff_scharr_prewitt, diff_scharr_sobel))\n",
    "\n",
    "fig, axes = plt.subplots(nrows=2, ncols=2, sharex=True, sharey=True,\n",
    "                         figsize=(8, 8))\n",
    "ax = axes.ravel()\n",
    "\n",
    "ax[0].imshow(img, cmap=plt.cm.gray)\n",
    "ax[0].set_title('Original image')\n",
    "\n",
    "ax[1].imshow(edge_scharr, cmap=plt.cm.gray)\n",
    "ax[1].set_title('Scharr Edge Detection')\n",
    "\n",
    "ax[2].imshow(diff_scharr_prewitt, cmap=plt.cm.gray, vmax=max_diff)\n",
    "ax[2].set_title('Scharr - Prewitt')\n",
    "\n",
    "ax[3].imshow(diff_scharr_sobel, cmap=plt.cm.gray, vmax=max_diff)\n",
    "ax[3].set_title('Scharr - Sobel')\n",
    "\n",
    "for a in ax:\n",
    "    a.axis('off')\n",
    "\n",
    "plt.tight_layout()\n",
    "plt.show()"
   ]
  }
 ],
 "metadata": {
  "kernelspec": {
   "display_name": "Python 2",
   "language": "python",
   "name": "python2"
  },
  "language_info": {
   "codemirror_mode": {
    "name": "ipython",
    "version": 2
   },
   "file_extension": ".py",
   "mimetype": "text/x-python",
   "name": "python",
   "nbconvert_exporter": "python",
   "pygments_lexer": "ipython2",
   "version": "2.7.12"
  }
 },
 "nbformat": 4,
 "nbformat_minor": 1
}
