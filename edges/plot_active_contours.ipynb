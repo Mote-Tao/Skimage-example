{
 "cells": [
  {
   "cell_type": "code",
   "execution_count": 1,
   "metadata": {
    "collapsed": false
   },
   "outputs": [],
   "source": [
    "%matplotlib inline"
   ]
  },
  {
   "cell_type": "markdown",
   "metadata": {},
   "source": [
    "\n",
    "# Active Contour Model\n",
    "\n",
    "\n",
    "The active contour model is a method to fit open or closed splines to lines or\n",
    "edges in an image. It works by minimising an energy that is in part defined by\n",
    "the image and part by the spline's shape: length and smoothness. The\n",
    "minimization is done implicitly in the shape energy and explicitly in the\n",
    "image energy.\n",
    "\n",
    "In the following two examples the active contour model is used (1) to segment\n",
    "the face of a person from the rest of an image by fitting a closed curve\n",
    "to the edges of the face and (2) to find the darkest curve between two fixed\n",
    "points while obeying smoothness considerations. Typically it is a good idea to\n",
    "smooth images a bit before analyzing, as done in the following examples.\n",
    "\n",
    ".. [1] *Snakes: Active contour models*. Kass, M.; Witkin, A.; Terzopoulos, D.\n",
    "       International Journal of Computer Vision 1 (4): 321 (1988).\n",
    "\n",
    "We initialize a circle around the astronaut's face and use the default boundary\n",
    "condition ``bc='periodic'`` to fit a closed curve. The default parameters\n",
    "``w_line=0, w_edge=1`` will make the curve search towards edges, such as the\n",
    "boundaries of the face.\n",
    "\n"
   ]
  },
  {
   "cell_type": "code",
   "execution_count": null,
   "metadata": {
    "collapsed": false
   },
   "outputs": [],
   "source": [
    "import numpy as np\n",
    "import matplotlib.pyplot as plt\n",
    "from skimage.color import rgb2gray\n",
    "from skimage import data\n",
    "from skimage.filters import gaussian\n",
    "from skimage.segmentation import active_contour\n",
    "\n",
    "# Test scipy version, since active contour is only possible\n",
    "# with recent scipy version\n",
    "import scipy\n",
    "split_version = scipy.__version__.split('.')\n",
    "if not(split_version[-1].isdigit()): # Remove dev string if present\n",
    "        split_version.pop()\n",
    "scipy_version = list(map(int, split_version))\n",
    "new_scipy = scipy_version[0] > 0 or \\\n",
    "            (scipy_version[0] == 0 and scipy_version[1] >= 14)\n",
    "\n",
    "img = data.astronaut()\n",
    "img = rgb2gray(img)\n",
    "\n",
    "s = np.linspace(0, 2*np.pi, 400)\n",
    "x = 220 + 100*np.cos(s)\n",
    "y = 100 + 100*np.sin(s)\n",
    "init = np.array([x, y]).T\n",
    "\n",
    "if not new_scipy:\n",
    "    print('You are using an old version of scipy. '\n",
    "          'Active contours is implemented for scipy versions '\n",
    "          '0.14.0 and above.')\n",
    "\n",
    "if new_scipy:\n",
    "    snake = active_contour(gaussian(img, 3),\n",
    "                           init, alpha=0.015, beta=10, gamma=0.001)\n",
    "\n",
    "    fig = plt.figure(figsize=(7, 7))\n",
    "    ax = fig.add_subplot(111)\n",
    "    plt.gray()\n",
    "    ax.imshow(img)\n",
    "    ax.plot(init[:, 0], init[:, 1], '--r', lw=3)\n",
    "    ax.plot(snake[:, 0], snake[:, 1], '-b', lw=3)\n",
    "    ax.set_xticks([]), ax.set_yticks([])\n",
    "    ax.axis([0, img.shape[1], img.shape[0], 0])"
   ]
  },
  {
   "cell_type": "markdown",
   "metadata": {},
   "source": [
    "Here we initialize a straight line between two points, `(5, 136)` and\n`(424, 50)`, and require that the spline has its end points there by giving\nthe boundary condition `bc='fixed'`. We furthermore make the algorithm\nsearch for dark lines by giving a negative `w_line` value.\n\n"
   ]
  },
  {
   "cell_type": "code",
   "execution_count": null,
   "metadata": {
    "collapsed": false
   },
   "outputs": [],
   "source": [
    "img = data.text()\n",
    "\n",
    "x = np.linspace(5, 424, 100)\n",
    "y = np.linspace(136, 50, 100)\n",
    "init = np.array([x, y]).T\n",
    "\n",
    "if new_scipy:\n",
    "    snake = active_contour(gaussian(img, 1), init, bc='fixed',\n",
    "                           alpha=0.1, beta=1.0, w_line=-5, w_edge=0, gamma=0.1)\n",
    "\n",
    "    fig = plt.figure(figsize=(9, 5))\n",
    "    ax = fig.add_subplot(111)\n",
    "    plt.gray()\n",
    "    ax.imshow(img)\n",
    "    ax.plot(init[:, 0], init[:, 1], '--r', lw=3)\n",
    "    ax.plot(snake[:, 0], snake[:, 1], '-b', lw=3)\n",
    "    ax.set_xticks([]), ax.set_yticks([])\n",
    "    ax.axis([0, img.shape[1], img.shape[0], 0])\n",
    "\n",
    "plt.show()"
   ]
  }
 ],
 "metadata": {
  "language_info": {
   "name": "python",
   "nbconvert_exporter": "python",
   "codemirror_mode": {
    "name": "ipython",
    "version": 3.0
   },
   "mimetype": "text/x-python",
   "file_extension": ".py",
   "pygments_lexer": "ipython3",
   "version": "3.4.2"
  },
  "kernelspec": {
   "name": "python3",
   "display_name": "Python 3",
   "language": "python"
  }
 },
 "nbformat": 4,
 "nbformat_minor": 0
}