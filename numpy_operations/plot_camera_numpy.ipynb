{
  "metadata": {
    "language_info": {
      "name": "python",
      "nbconvert_exporter": "python",
      "codemirror_mode": {
        "name": "ipython",
        "version": 3
      },
      "mimetype": "text/x-python",
      "file_extension": ".py",
      "pygments_lexer": "ipython3",
      "version": "3.4.2"
    },
    "kernelspec": {
      "name": "python3",
      "display_name": "Python 3",
      "language": "python"
    }
  },
  "nbformat_minor": 0,
  "cells": [
    {
      "metadata": {
        "collapsed": false
      },
      "outputs": [],
      "execution_count": null,
      "cell_type": "code",
      "source": [
        "%matplotlib inline"
      ]
    },
    {
      "metadata": {},
      "cell_type": "markdown",
      "source": [
        "\nUsing simple NumPy operations for manipulating images\n=====================================================\n\nThis script illustrates how to use basic NumPy operations, such as slicing,\nmasking and fancy indexing, in order to modify the pixel values of an image.\n\n"
      ]
    },
    {
      "metadata": {
        "collapsed": false
      },
      "outputs": [],
      "execution_count": null,
      "cell_type": "code",
      "source": [
        "import numpy as np\nfrom skimage import data\nimport matplotlib.pyplot as plt\n\ncamera = data.camera()\ncamera[:10] = 0\nmask = camera < 87\ncamera[mask] = 255\ninds_x = np.arange(len(camera))\ninds_y = (4 * inds_x) % len(camera)\ncamera[inds_x, inds_y] = 0\n\nl_x, l_y = camera.shape[0], camera.shape[1]\nX, Y = np.ogrid[:l_x, :l_y]\nouter_disk_mask = (X - l_x / 2)**2 + (Y - l_y / 2)**2 > (l_x / 2)**2\ncamera[outer_disk_mask] = 0\n\nplt.figure(figsize=(4, 4))\nplt.imshow(camera, cmap='gray', interpolation='nearest')\nplt.axis('off')\nplt.show()"
      ]
    }
  ],
  "nbformat": 4
}